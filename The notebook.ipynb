{
 "cells": [
  {
   "cell_type": "markdown",
   "metadata": {},
   "source": [
    "## A Microeconomics (and fantasynomics) Notebook"
   ]
  },
  {
   "cell_type": "markdown",
   "metadata": {},
   "source": [
    "This notebook will gradually introduce microeconomics graphs and theories with increasing complexity and use own concepts. The goal is to use the custom complex models in own game where economics play a part."
   ]
  },
  {
   "cell_type": "code",
   "execution_count": 9,
   "metadata": {},
   "outputs": [],
   "source": [
    "import numpy as np\n",
    "import pandas as pd\n",
    "import matplotlib.pyplot as plt\n",
    "import scipy\n",
    "import math\n",
    "import bisect"
   ]
  },
  {
   "cell_type": "markdown",
   "metadata": {},
   "source": [
    "### Definitions\n",
    "---\n",
    "\n",
    "##### Homo economicus\n",
    "\n",
    "##### Normative theory\n",
    "\n",
    "##### Positive theory\n",
    "\n",
    "##### Utility\n",
    "\n",
    "##### Indifference curve\n",
    "\n",
    "##### Normal good\n",
    "\n",
    "##### Inferior good\n",
    "\n",
    "##### Giffen good\n",
    "\n",
    "##### Substitute\n",
    "\n",
    "##### Complement\n",
    "\n",
    "##### Supply\n",
    "\n",
    "##### Demand\n",
    "\n",
    "##### Cost\n",
    "\n",
    "##### Marginal Cost\n",
    "\n",
    "##### Average Cost\n",
    "\n",
    "##### Returns to scale\n",
    "\n",
    "##### Economy of scale\n",
    "\n",
    "##### Perfect competition\n",
    "\n",
    "##### Price taker"
   ]
  },
  {
   "cell_type": "markdown",
   "metadata": {},
   "source": [
    "### 1 Supply\n",
    "---"
   ]
  },
  {
   "cell_type": "markdown",
   "metadata": {},
   "source": [
    "#### 1.1 Simple supply of one producer\n",
    "\n",
    "The supply depends on marginal costs. The supply then follows the cost function."
   ]
  },
  {
   "cell_type": "markdown",
   "metadata": {},
   "source": [
    "##### 1.1.1 Example with linear marginal costs\n",
    "\n"
   ]
  },
  {
   "cell_type": "code",
   "execution_count": 37,
   "metadata": {
    "scrolled": true
   },
   "outputs": [
    {
     "data": {
      "image/png": "[encoded data removed]",
      "text/plain": [
       "<Figure size 432x288 with 1 Axes>"
      ]
     },
     "metadata": {
      "needs_background": "light"
     },
     "output_type": "display_data"
    },
    {
     "data": {
      "text/plain": [
       "array([[ 1.        ,  2.        ],\n",
       "       [ 2.        ,  2.66666667],\n",
       "       [ 3.        ,  3.33333333],\n",
       "       [ 4.        ,  4.        ],\n",
       "       [ 5.        ,  4.66666667],\n",
       "       [ 6.        ,  5.33333333],\n",
       "       [ 7.        ,  6.        ],\n",
       "       [ 8.        ,  6.66666667],\n",
       "       [ 9.        ,  7.33333333],\n",
       "       [10.        ,  8.        ]])"
      ]
     },
     "execution_count": 37,
     "metadata": {},
     "output_type": "execute_result"
    }
   ],
   "source": [
    "#config\n",
    "\n",
    "def linear_marginal_cost_firm(low_price,high_price,max_quantity,plot=False):\n",
    "    \"\"\"\n",
    "    params: int\n",
    "    returns: a matrix with col[0] of units and col[1] of marginal cost of the unit, able to plot the marginal cost graph\n",
    "    \"\"\"\n",
    "    unit = np.arange(max_quantity) + 1\n",
    "    marginal_cost = np.linspace(low_price,high_price,max_quantity)\n",
    "\n",
    "    if plot:\n",
    "        plt.title(\"Supply firm A\")\n",
    "        plt.xlabel(\"Quantity\")\n",
    "        plt.ylabel(\"Price\")\n",
    "        plt.plot(unit, marginal_cost, color =\"red\", label='Marginal cost')\n",
    "        plt.legend()\n",
    "        plt.show()\n",
    "    \n",
    "    return np.vstack((unit, marginal_cost)).T\n",
    "    \n",
    "linear_marginal_cost_firm(2,8,10,plot=True)"
   ]
  },
  {
   "cell_type": "markdown",
   "metadata": {},
   "source": [
    "We can find the quantity or the price the firm is willing to produce at if we know the other. We can also get the supplier surplus."
   ]
  },
  {
   "cell_type": "code",
   "execution_count": 44,
   "metadata": {},
   "outputs": [
    {
     "data": {
      "image/png": "[encoded data removed]",
      "text/plain": [
       "<Figure size 432x288 with 1 Axes>"
      ]
     },
     "metadata": {
      "needs_background": "light"
     },
     "output_type": "display_data"
    },
    {
     "name": "stdout",
     "output_type": "stream",
     "text": [
      "16.0\n",
      "(5.333333333333333, 10.0)\n",
      "(3, 1.3333333333333335)\n"
     ]
    }
   ],
   "source": [
    "def get_surplus(quantity, price, marginal_cost, plot=False):\n",
    "    \"\"\"\n",
    "    params: int\n",
    "    returns the surplus of the company given a quantity and price\n",
    "    \"\"\"\n",
    "    surplus = 0\n",
    "    #calculates the surplus for each unit up to the quantity given and takes the sum of all surplusses\n",
    "    costs = marginal_cost[:quantity]\n",
    "    surplus = (price - costs).sum()\n",
    "    \n",
    "    if plot:\n",
    "        unit = np.arange(len(marginal_cost)) + 1\n",
    "        \n",
    "        low_price = marginal_cost[0]\n",
    "        high_price = marginal_cost[-1]\n",
    "        \n",
    "        plt.title(\"Surplus\")\n",
    "        plt.xlabel(\"Quantity\")\n",
    "        plt.ylabel(\"Price\")\n",
    "        plt.plot(unit, marginal_cost, color =\"red\", label='marginal cost')\n",
    "        plt.axhline(y = price, label='price')\n",
    "        plt.axvline(x = quantity, color=\"green\", label='quantity')\n",
    "        plt.fill_between(\n",
    "            [1,quantity],\n",
    "            [low_price,marginal_cost[quantity-1]],\n",
    "            [price,price],color='black',alpha=0.15,label='surplus')\n",
    "        plt.legend()\n",
    "        plt.show()\n",
    "    \n",
    "    return surplus\n",
    "\n",
    "def get_price(quantity, marginal_cost):\n",
    "    \"\"\"\n",
    "    params: int\n",
    "    returns the price the company is willing to sell at for a given quantity and the surplus that is made at that price\n",
    "    \"\"\"\n",
    "    max_quantity = len(marginal_cost)\n",
    "    #if within marked range then give out the price and surplus else return 'nan'\n",
    "    if (0 < quantity < max_quantity):\n",
    "        price = marginal_cost[quantity]\n",
    "        return price, get_surplus(quantity, price, marginal_cost)\n",
    "    else:\n",
    "        return np.nan\n",
    "\n",
    "def get_quantity(price, marginal_cost):\n",
    "    \"\"\"\n",
    "    params: int\n",
    "    returns the quantity the company is willing to sell at a given price and the surplus that is made at that quantity\n",
    "    \"\"\"\n",
    "    low_price = marginal_cost[0]\n",
    "    high_price = marginal_cost[-1]\n",
    "    #if over high_price then return max quantity, else if under min price return 0, else return \n",
    "    if (price >= high_price):\n",
    "        return max_quantity\n",
    "    elif (price < low_price):\n",
    "        return 0\n",
    "    else:\n",
    "        #finds closest number under or equals to price in marginal_cost\n",
    "        #[0] is array of elements matching and -1 is last (highest) elem\n",
    "        #+ 1 because 0 indexed\n",
    "        quantity = np.where(marginal_cost <= price)[0][-1] + 1\n",
    "        return price, get_surplus(quantity, price, marginal_cost)\n",
    "\n",
    "\n",
    "mc = linear_marginal_cost_firm(2,8,10)[:,1]\n",
    "print(get_surplus(4,7,mc,plot=True))\n",
    "print(get_price(5,mc))\n",
    "print(get_quantity(3,mc))"
   ]
  },
  {
   "cell_type": "markdown",
   "metadata": {},
   "source": [
    "### 2 Demand"
   ]
  },
  {
   "cell_type": "markdown",
   "metadata": {},
   "source": [
    "### 3 Cost"
   ]
  }
 ],
 "metadata": {
  "kernelspec": {
   "display_name": "Python 3 (ipykernel)",
   "language": "python",
   "name": "python3"
  },
  "language_info": {
   "codemirror_mode": {
    "name": "ipython",
    "version": 3
   },
   "file_extension": ".py",
   "mimetype": "text/x-python",
   "name": "python",
   "nbconvert_exporter": "python",
   "pygments_lexer": "ipython3",
   "version": "3.8.12"
  }
 },
 "nbformat": 4,
 "nbformat_minor": 4
}
